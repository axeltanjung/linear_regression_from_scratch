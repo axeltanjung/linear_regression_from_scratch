{
 "cells": [
  {
   "cell_type": "code",
   "execution_count": 16,
   "metadata": {},
   "outputs": [],
   "source": [
    "import numpy as np\n",
    "import matplotlib.pyplot as plt"
   ]
  },
  {
   "cell_type": "code",
   "execution_count": 17,
   "metadata": {},
   "outputs": [],
   "source": [
    "X = np.array([[1,1],\n",
    "              [1,2],\n",
    "              [2,2],\n",
    "              [2,3]])\n",
    "y = np.dot(X, np.array([1,2])) + 3"
   ]
  },
  {
   "cell_type": "code",
   "execution_count": 18,
   "metadata": {},
   "outputs": [
    {
     "name": "stdout",
     "output_type": "stream",
     "text": [
      "coef [1. 2.]\n",
      "intercept 2.9999999999999956\n"
     ]
    }
   ],
   "source": [
    "n_samples, n_features = X.shape\n",
    "\n",
    "# Design matrix = A --> [1, x_1, x_2, ...]\n",
    "# [1] gabungkan dengan X\n",
    "A = np.column_stack((X,\n",
    "                     np.ones(n_samples)))\n",
    "\n",
    "# Model parameter\n",
    "theta = np.linalg.inv(A . T @ A)@ A.T @ y\n",
    "theta\n",
    "\n",
    "# Extract\n",
    "coef_ = theta[:n_features]\n",
    "intercept_ = theta[-1]\n",
    "\n",
    "print(\"coef\", coef_)\n",
    "print(\"intercept\", intercept_)\n",
    "\n",
    "# A.T   (n_feature + 1, n_samples)\n",
    "# A     (n_samples, n_feaute + 1)\n",
    "# A.T A (n_feature + 1, n_feature + 1)\n",
    "# ....  (n_feature + 1, n_samples)\n",
    "# y     (n_samples, )\n",
    "# theta (n_feature + 1,)"
   ]
  },
  {
   "cell_type": "code",
   "execution_count": 19,
   "metadata": {},
   "outputs": [],
   "source": [
    "class LinearRegression:\n",
    "    '''\n",
    "    Ordinary least square Linear Regression.\n",
    "\n",
    "    Parameters\n",
    "    ----------\n",
    "    fit_intercept : bool, default=True\n",
    "        Wheater to calculate the intercept for this model.\n",
    "        If set to False, no intercept will be used in calculations\n",
    "        i.e. data is expected to be centered (manually)\n",
    "\n",
    "    Attributes\n",
    "    ----------\n",
    "    coef_ : array of shape (n_features, )\n",
    "        Estimated coef for the linear regression problem.\n",
    "\n",
    "    intercept_ : float\n",
    "        Independent term in the linear model.\n",
    "        Set to 0.0 if 'fit_intercept = False'   \n",
    "    '''\n",
    "\n",
    "    def __init__(\n",
    "        self,\n",
    "        fit_intercept = True\n",
    "    ):\n",
    "        self.fit_intercept = fit_intercept\n",
    "\n",
    "    def fit(self, X, y):\n",
    "        # Normalisasi data\n",
    "        X = np.array(X).copy()\n",
    "        y = np.array(y).copy()\n",
    "\n",
    "        # Extract size\n",
    "        n_samples, n_features = X.shape\n",
    "\n",
    "        # Design matrix = A --> [1, x_1, x_2, ...]\n",
    "        # [1] gabungkan dengan X\n",
    "        A = np.column_stack((X,\n",
    "                            np.ones(n_samples)))\n",
    "\n",
    "        # Model parameter\n",
    "        theta = np.linalg.inv(A . T @ A)@ A.T @ y\n",
    "        theta\n",
    "\n",
    "        # Extract\n",
    "        if self.fit_intercept:\n",
    "            self.coef_ = theta[:n_features]\n",
    "            self.intercept_ = theta[-1]\n",
    "        else:\n",
    "            self.coef_ = theta[:n_features]\n",
    "            self.intercept_ = 0\n",
    "        # A.T   (n_feature + 1, n_samples)\n",
    "        # A     (n_samples, n_feaute + 1)\n",
    "        # A.T A (n_feature + 1, n_feature + 1)\n",
    "        # ....  (n_feature + 1, n_samples)\n",
    "        # y     (n_samples, )\n",
    "        # theta (n_feature + 1,)\n",
    "\n",
    "    def predict(self, X):\n",
    "        \"\"\"\n",
    "        Predict using the linear model.\n",
    "\n",
    "        Parameters\n",
    "        ---------\n",
    "        X : array-like, shape (n_samples, n_features)\n",
    "            Samples\n",
    "\n",
    "        Returns\n",
    "        -------\n",
    "        y_pred : array, shape (n_samples)\n",
    "            Returns predicted values        \n",
    "        \"\"\"\n",
    "        # Normalisasi input\n",
    "        X = np.array(X).copy()\n",
    "\n",
    "        # Masukkan ke fungsi linear\n",
    "        # y = w.X + b\n",
    "        y_pred = np.dot(X, self.coef_) + self.intercept_\n",
    "        return y_pred\n"
   ]
  },
  {
   "cell_type": "code",
   "execution_count": 22,
   "metadata": {},
   "outputs": [],
   "source": [
    "X = np.array([[1,1],\n",
    "              [1,2],\n",
    "              [2,2],\n",
    "              [2,3]])\n",
    "y = np.dot(X, np.array([1,2])) + 3\n",
    "\n",
    "reg = LinearRegression()\n",
    "reg.fit(X,y)"
   ]
  },
  {
   "cell_type": "code",
   "execution_count": 23,
   "metadata": {},
   "outputs": [
    {
     "name": "stdout",
     "output_type": "stream",
     "text": [
      "[1. 2.]\n",
      "2.9999999999999956\n",
      "[[16.]]\n"
     ]
    }
   ],
   "source": [
    "print(reg.coef_)\n",
    "print(reg.intercept_)\n",
    "print(reg.predict([np.array([[3,5]])]))"
   ]
  },
  {
   "cell_type": "code",
   "execution_count": null,
   "metadata": {},
   "outputs": [],
   "source": []
  }
 ],
 "metadata": {
  "kernelspec": {
   "display_name": "Python 3",
   "language": "python",
   "name": "python3"
  },
  "language_info": {
   "codemirror_mode": {
    "name": "ipython",
    "version": 3
   },
   "file_extension": ".py",
   "mimetype": "text/x-python",
   "name": "python",
   "nbconvert_exporter": "python",
   "pygments_lexer": "ipython3",
   "version": "3.10.4"
  },
  "orig_nbformat": 4
 },
 "nbformat": 4,
 "nbformat_minor": 2
}
